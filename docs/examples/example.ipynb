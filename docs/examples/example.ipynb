{
 "cells": [
  {
   "cell_type": "code",
   "execution_count": 1,
   "source": [
    "from core import pattern\r\n",
    "import numpy as np"
   ],
   "outputs": [],
   "metadata": {}
  },
  {
   "cell_type": "code",
   "execution_count": 2,
   "source": [
    "pattern()"
   ],
   "outputs": [
    {
     "output_type": "execute_result",
     "data": {
      "text/plain": [
       "<xarray.DataArray (field: 0, frequency: 0, theta: 0, phi: 0)>\n",
       "array([], shape=(0, 0, 0, 0), dtype=float64)\n",
       "Dimensions without coordinates: field, frequency, theta, phi"
      ]
     },
     "metadata": {},
     "execution_count": 2
    }
   ],
   "metadata": {}
  },
  {
   "cell_type": "code",
   "execution_count": 6,
   "source": [
    "data = np.asarray(\r\n",
    "    [[[\r\n",
    "        [0, 1, 2, 3],\r\n",
    "        [4, 5, 6, 7]\r\n",
    "    ]]]\r\n",
    ")\r\n",
    "coords = {\r\n",
    "    'field': ['Re_Ephi'],\r\n",
    "    'frequency' : [1e9],\r\n",
    "    'theta' : [0, 90],\r\n",
    "    'phi' : [0, 90, 180, 270]\r\n",
    "}\r\n",
    "pattern(data, coords)"
   ],
   "outputs": [
    {
     "output_type": "execute_result",
     "data": {
      "text/plain": [
       "<xarray.DataArray (field: 1, frequency: 1, theta: 2, phi: 4)>\n",
       "array([[[[0, 1, 2, 3],\n",
       "         [4, 5, 6, 7]]]])\n",
       "Coordinates:\n",
       "  * field      (field) <U7 'Re_Ephi'\n",
       "  * frequency  (frequency) float64 1e+09\n",
       "  * theta      (theta) int32 0 90\n",
       "  * phi        (phi) int32 0 90 180 270"
      ]
     },
     "metadata": {},
     "execution_count": 6
    }
   ],
   "metadata": {}
  },
  {
   "cell_type": "code",
   "execution_count": 3,
   "source": [
    "re_ephi_data = np.asarray(\r\n",
    "    [[\r\n",
    "        [0, 1, 2, 3],\r\n",
    "        [4, 5, 6, 7]\r\n",
    "    ]]\r\n",
    ")\r\n",
    "im_ephi_data = np.asarray(\r\n",
    "    [[\r\n",
    "        [4, 5, 6, 7],\r\n",
    "        [0, 1, 2, 3],\r\n",
    "    ]]\r\n",
    ")\r\n",
    "\r\n",
    "pattern(\r\n",
    "    Re_Ephi=re_ephi_data,\r\n",
    "    Im_Ephi=im_ephi_data,\r\n",
    "    frequency=[1e9],\r\n",
    "    theta=[0, 90],\r\n",
    "    phi=[0, 90, 180, 270]\r\n",
    ")"
   ],
   "outputs": [
    {
     "output_type": "execute_result",
     "data": {
      "text/plain": [
       "<xarray.DataArray (field: 2, frequency: 1, theta: 2, phi: 4)>\n",
       "array([[[[0., 1., 2., 3.],\n",
       "         [4., 5., 6., 7.]]],\n",
       "\n",
       "\n",
       "       [[[0., 1., 2., 3.],\n",
       "         [4., 5., 6., 7.]]]])\n",
       "Coordinates:\n",
       "  * frequency  (frequency) float64 1e+09\n",
       "  * theta      (theta) int32 0 90\n",
       "  * phi        (phi) int32 0 90 180 270\n",
       "  * field      (field) <U7 'Re_Ephi' 'Im_Ephi'"
      ]
     },
     "metadata": {},
     "execution_count": 3
    }
   ],
   "metadata": {}
  },
  {
   "cell_type": "code",
   "execution_count": 4,
   "source": [
    "pattern.DEFAULT_DIMS"
   ],
   "outputs": [
    {
     "output_type": "execute_result",
     "data": {
      "text/plain": [
       "['field', 'frequency', 'theta', 'phi']"
      ]
     },
     "metadata": {},
     "execution_count": 4
    }
   ],
   "metadata": {}
  },
  {
   "cell_type": "code",
   "execution_count": 3,
   "source": [
    "pattern.DEFAULT_UNITS"
   ],
   "outputs": [
    {
     "output_type": "execute_result",
     "data": {
      "text/plain": [
       "{'Frequency': 'Hz',\n",
       " 'Theta': 'deg',\n",
       " 'Phi': 'deg',\n",
       " 'Re(Etheta)': 'V/m',\n",
       " 'Im(Etheta)': 'V/m',\n",
       " 'Re(Ephi)': 'V/m',\n",
       " 'Im(Ephi)': 'V/m',\n",
       " 'Re(Htheta)': 'A/m',\n",
       " 'Im(Htheta)': 'A/m',\n",
       " 'Re(Hphi)': 'A/m',\n",
       " 'Im(Hphi)': 'A/m',\n",
       " 'Directivity(Theta)': 'dBi',\n",
       " 'Directivity(Phi)': 'dBi',\n",
       " 'Directivity(Total)': 'dBi',\n",
       " 'Gain(Theta)': 'dBi',\n",
       " 'Gain(Phi)': 'dBi',\n",
       " 'Gain(Total)': 'dBi',\n",
       " 'Xpol Ratio(Y/X)': 'dB',\n",
       " 'Xpol Ratio(X/Y)': 'dB'}"
      ]
     },
     "metadata": {},
     "execution_count": 3
    }
   ],
   "metadata": {}
  },
  {
   "cell_type": "code",
   "execution_count": 5,
   "source": [
    "pattern.VALID_FIELD_NAMES"
   ],
   "outputs": [
    {
     "output_type": "execute_result",
     "data": {
      "text/plain": [
       "['Re(Etheta)',\n",
       " 'Im(Etheta)',\n",
       " 'Re(Ephi)',\n",
       " 'Im(Ephi)',\n",
       " 'Re(Htheta)',\n",
       " 'Im(Htheta)',\n",
       " 'Re(Hphi)',\n",
       " 'Im(Hphi)',\n",
       " 'Directivity(Theta)',\n",
       " 'Directivity(Phi)',\n",
       " 'Directivity(Total)',\n",
       " 'Gain(Theta)',\n",
       " 'Gain(Phi)',\n",
       " 'Gain(Total)',\n",
       " 'Xpol Ratio(Y/X)',\n",
       " 'Xpol Ratio(X/Y)']"
      ]
     },
     "metadata": {},
     "execution_count": 5
    }
   ],
   "metadata": {}
  }
 ],
 "metadata": {
  "orig_nbformat": 4,
  "language_info": {
   "name": "python",
   "version": "3.8.5",
   "mimetype": "text/x-python",
   "codemirror_mode": {
    "name": "ipython",
    "version": 3
   },
   "pygments_lexer": "ipython3",
   "nbconvert_exporter": "python",
   "file_extension": ".py"
  },
  "kernelspec": {
   "name": "python3",
   "display_name": "Python 3.8.5 32-bit"
  },
  "interpreter": {
   "hash": "30b2ee0e0b73659699c0707cac66e3b320bdad44b5614afbb5dea72b17228129"
  }
 },
 "nbformat": 4,
 "nbformat_minor": 2
}