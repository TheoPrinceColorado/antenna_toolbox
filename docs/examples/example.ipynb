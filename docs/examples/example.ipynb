{
 "cells": [
  {
   "cell_type": "code",
   "execution_count": 340,
   "metadata": {},
   "outputs": [],
   "source": [
    "from core import pattern\n",
    "import numpy as np\n",
    "from copy import copy"
   ]
  },
  {
   "attachments": {},
   "cell_type": "markdown",
   "metadata": {},
   "source": [
    "# Creating a pattern object from arbitrary data"
   ]
  },
  {
   "cell_type": "code",
   "execution_count": 341,
   "metadata": {},
   "outputs": [
    {
     "name": "stdout",
     "output_type": "stream",
     "text": [
      "<xarray.DataArray (field: 0, frequency: 0, theta: 0, phi: 0)>\n",
      "array([], shape=(0, 0, 0, 0), dtype=float64)\n",
      "Dimensions without coordinates: field, frequency, theta, phi\n"
     ]
    }
   ],
   "source": [
    "pat = pattern()\n",
    "print(pat)"
   ]
  },
  {
   "cell_type": "code",
   "execution_count": 342,
   "metadata": {},
   "outputs": [
    {
     "name": "stdout",
     "output_type": "stream",
     "text": [
      "<xarray.DataArray (field: 1, frequency: 1, theta: 2, phi: 4)>\n",
      "array([[[[0, 1, 2, 3],\n",
      "         [4, 5, 6, 7]]]])\n",
      "Coordinates:\n",
      "  * field      (field) <U7 'Re_Ephi'\n",
      "  * frequency  (frequency) float64 1e+09\n",
      "  * theta      (theta) int32 0 90\n",
      "  * phi        (phi) int32 0 90 180 270\n"
     ]
    }
   ],
   "source": [
    "data = np.asarray(\n",
    "    [[[\n",
    "        [0, 1, 2, 3],\n",
    "        [4, 5, 6, 7]\n",
    "    ]]]\n",
    ")\n",
    "coords = {\n",
    "    'field': ['Re_Ephi'],\n",
    "    'frequency' : [1e9],\n",
    "    'theta' : [0, 90],\n",
    "    'phi' : [0, 90, 180, 270]\n",
    "}\n",
    "pat = pattern(data, coords)\n",
    "print(pat)"
   ]
  },
  {
   "cell_type": "code",
   "execution_count": 343,
   "metadata": {},
   "outputs": [
    {
     "name": "stdout",
     "output_type": "stream",
     "text": [
      "<xarray.DataArray (field: 2, frequency: 1, theta: 2, phi: 4)>\n",
      "array([[[[0., 1., 2., 3.],\n",
      "         [4., 5., 6., 7.]]],\n",
      "\n",
      "\n",
      "       [[[4., 5., 6., 7.],\n",
      "         [0., 1., 2., 3.]]]])\n",
      "Coordinates:\n",
      "  * frequency  (frequency) float64 1e+09\n",
      "  * theta      (theta) int32 0 90\n",
      "  * phi        (phi) int32 0 90 180 270\n",
      "  * field      (field) <U7 'Re_Ephi' 'Im_Ephi'\n"
     ]
    }
   ],
   "source": [
    "re_ephi_data = np.asarray(\n",
    "    [[\n",
    "        [0, 1, 2, 3],\n",
    "        [4, 5, 6, 7]\n",
    "    ]]\n",
    ")\n",
    "im_ephi_data = np.asarray(\n",
    "    [[\n",
    "        [4, 5, 6, 7],\n",
    "        [0, 1, 2, 3],\n",
    "    ]]\n",
    ")\n",
    "\n",
    "pat = pattern(\n",
    "    Re_Ephi=re_ephi_data,\n",
    "    Im_Ephi=im_ephi_data,\n",
    "    frequency=[1e9],\n",
    "    theta=[0, 90],\n",
    "    phi=[0, 90, 180, 270]\n",
    ")\n",
    "print(pat)"
   ]
  },
  {
   "attachments": {},
   "cell_type": "markdown",
   "metadata": {},
   "source": [
    "# Default dimensions, fields, units"
   ]
  },
  {
   "cell_type": "code",
   "execution_count": 344,
   "metadata": {},
   "outputs": [
    {
     "data": {
      "text/plain": [
       "['field', 'frequency', 'theta', 'phi']"
      ]
     },
     "execution_count": 344,
     "metadata": {},
     "output_type": "execute_result"
    }
   ],
   "source": [
    "pattern.DEFAULT_DIMS"
   ]
  },
  {
   "cell_type": "code",
   "execution_count": 345,
   "metadata": {},
   "outputs": [
    {
     "data": {
      "text/plain": [
       "{'Frequency': 'Hz',\n",
       " 'Theta': 'deg',\n",
       " 'Phi': 'deg',\n",
       " 'Elevation': 'deg',\n",
       " 'Azimuth': 'deg',\n",
       " 'Re_Etheta': 'V/m',\n",
       " 'Im_Etheta': 'V/m',\n",
       " 'Re_Ephi': 'V/m',\n",
       " 'Im_Ephi': 'V/m',\n",
       " 'Re_Htheta': 'A/m',\n",
       " 'Im_Htheta': 'A/m',\n",
       " 'Re_Hphi': 'A/m',\n",
       " 'Im_Hphi': 'A/m',\n",
       " 'Directivity_Theta': 'dBi',\n",
       " 'Directivity_Phi': 'dBi',\n",
       " 'Directivity_Total': 'dBi',\n",
       " 'Directivity_L3X': 'dBi',\n",
       " 'Directivity_L3Y': 'dBi',\n",
       " 'Directivity_LHCP': 'dBic',\n",
       " 'Directivity_RHCP': 'dBic',\n",
       " 'Gain_Theta': 'dBi',\n",
       " 'Gain_Phi': 'dBi',\n",
       " 'Gain_Total': 'dBi',\n",
       " 'Gain_L3X': 'dBi',\n",
       " 'Gain_L3Y': 'dBi',\n",
       " 'Gain_LHCP': 'dBic',\n",
       " 'Gain_RHCP': 'dBic',\n",
       " 'Realized_Gain_Theta': 'dBi',\n",
       " 'Realized_Gain_Phi': 'dBi',\n",
       " 'Realized_Gain_Total': 'dBi',\n",
       " 'Realized_Gain_L3X': 'dBi',\n",
       " 'Realized_Gain_L3Y': 'dBi',\n",
       " 'Realized_Gain_LHCP': 'dBic',\n",
       " 'Realized_Gain_RHCP': 'dBic',\n",
       " 'Xpol_Ratio_Y_to_X': 'dB',\n",
       " 'Xpol_Ratio_X_to_Y': 'dB',\n",
       " 'Xpol_Ratio_LH_to_RH': 'dB',\n",
       " 'Xpol_Ratio_RH_to_LH': 'dB',\n",
       " 'Axial_Ratio': 'dB',\n",
       " 'Polarization_Angle': 'deg'}"
      ]
     },
     "execution_count": 345,
     "metadata": {},
     "output_type": "execute_result"
    }
   ],
   "source": [
    "pattern.DEFAULT_UNITS"
   ]
  },
  {
   "cell_type": "code",
   "execution_count": 346,
   "metadata": {},
   "outputs": [
    {
     "data": {
      "text/plain": [
       "['Re_Etheta',\n",
       " 'Im_Etheta',\n",
       " 'Re_Ephi',\n",
       " 'Im_Ephi',\n",
       " 'Re_Htheta',\n",
       " 'Im_Htheta',\n",
       " 'Re_Hphi',\n",
       " 'Im_Hphi',\n",
       " 'Directivity_Theta',\n",
       " 'Directivity_Phi',\n",
       " 'Directivity_Total',\n",
       " 'Directivity_L3X',\n",
       " 'Directivity_L3Y',\n",
       " 'Directivity_LHCP',\n",
       " 'Directivity_RHCP',\n",
       " 'Gain_Theta',\n",
       " 'Gain_Phi',\n",
       " 'Gain_Total',\n",
       " 'Gain_L3X',\n",
       " 'Gain_L3Y',\n",
       " 'Gain_LHCP',\n",
       " 'Gain_RHCP',\n",
       " 'Realized_Gain_Theta',\n",
       " 'Realized_Gain_Phi',\n",
       " 'Realized_Gain_Total',\n",
       " 'Realized_Gain_L3X',\n",
       " 'Realized_Gain_L3Y',\n",
       " 'Realized_Gain_LHCP',\n",
       " 'Realized_Gain_RHCP',\n",
       " 'Xpol_Ratio_Y_to_X',\n",
       " 'Xpol_Ratio_X_to_Y',\n",
       " 'Xpol_Ratio_LH_to_RH',\n",
       " 'Xpol_Ratio_RH_to_LH',\n",
       " 'Axial_Ratio',\n",
       " 'Polarization_Angle']"
      ]
     },
     "execution_count": 346,
     "metadata": {},
     "output_type": "execute_result"
    }
   ],
   "source": [
    "pattern.VALID_FIELD_NAMES"
   ]
  },
  {
   "attachments": {},
   "cell_type": "markdown",
   "metadata": {},
   "source": [
    "# Converting coordinate systems"
   ]
  },
  {
   "cell_type": "code",
   "execution_count": 347,
   "metadata": {},
   "outputs": [
    {
     "name": "stdout",
     "output_type": "stream",
     "text": [
      "Initial coordinates: \n",
      "<xarray.DataArray (field: 2, frequency: 1, theta: 2, phi: 4)>\n",
      "array([[[[0., 1., 2., 3.],\n",
      "         [4., 5., 6., 7.]]],\n",
      "\n",
      "\n",
      "       [[[4., 5., 6., 7.],\n",
      "         [0., 1., 2., 3.]]]])\n",
      "Coordinates:\n",
      "  * frequency  (frequency) float64 1e+09\n",
      "  * theta      (theta) int32 0 90\n",
      "  * phi        (phi) int32 0 90 180 270\n",
      "  * field      (field) <U7 'Re_Ephi' 'Im_Ephi'\n"
     ]
    }
   ],
   "source": [
    "print('Initial coordinates: ')\n",
    "print(pat)"
   ]
  },
  {
   "cell_type": "code",
   "execution_count": 348,
   "metadata": {},
   "outputs": [
    {
     "name": "stdout",
     "output_type": "stream",
     "text": [
      "Az-el coordinates: \n",
      "<xarray.DataArray (field: 2, frequency: 1, elevation: 2, azimuth: 4)>\n",
      "array([[[[0., 1., 2., 3.],\n",
      "         [4., 5., 6., 7.]]],\n",
      "\n",
      "\n",
      "       [[[4., 5., 6., 7.],\n",
      "         [0., 1., 2., 3.]]]])\n",
      "Coordinates:\n",
      "  * frequency  (frequency) float64 1e+09\n",
      "  * elevation  (elevation) int32 90 0\n",
      "  * azimuth    (azimuth) int32 0 90 180 270\n",
      "  * field      (field) <U7 'Re_Ephi' 'Im_Ephi'\n"
     ]
    }
   ],
   "source": [
    "print('Az-el coordinates: ')\n",
    "pat_az_el = copy(pat)\n",
    "pat_az_el.sph_2_az_el()\n",
    "print(pat_az_el)"
   ]
  },
  {
   "cell_type": "code",
   "execution_count": 349,
   "metadata": {},
   "outputs": [
    {
     "name": "stdout",
     "output_type": "stream",
     "text": [
      "Array coordinates:\n",
      "<xarray.DataArray (field: 2, frequency: 1, theta: 3, phi: 3)>\n",
      "array([[[[ 2.,  3., nan],\n",
      "         [ 0.,  1.,  2.],\n",
      "         [ 4.,  5.,  6.]]],\n",
      "\n",
      "\n",
      "       [[[ 6.,  7., nan],\n",
      "         [ 4.,  5.,  6.],\n",
      "         [ 0.,  1.,  2.]]]])\n",
      "Coordinates:\n",
      "  * phi        (phi) int64 0 90 180\n",
      "  * frequency  (frequency) float64 1e+09\n",
      "  * theta      (theta) int64 -90 90 0\n",
      "  * field      (field) <U7 'Re_Ephi' 'Im_Ephi'\n"
     ]
    }
   ],
   "source": [
    "print('Array coordinates:')\n",
    "pat_array = copy(pat)\n",
    "pat_array.sph_2_array_coordinates()\n",
    "print(pat_array)"
   ]
  }
 ],
 "metadata": {
  "kernelspec": {
   "display_name": "base",
   "language": "python",
   "name": "python3"
  },
  "language_info": {
   "codemirror_mode": {
    "name": "ipython",
    "version": 3
   },
   "file_extension": ".py",
   "mimetype": "text/x-python",
   "name": "python",
   "nbconvert_exporter": "python",
   "pygments_lexer": "ipython3",
   "version": "3.9.7"
  },
  "orig_nbformat": 4,
  "vscode": {
   "interpreter": {
    "hash": "ad2bdc8ecc057115af97d19610ffacc2b4e99fae6737bb82f5d7fb13d2f2c186"
   }
  }
 },
 "nbformat": 4,
 "nbformat_minor": 2
}
