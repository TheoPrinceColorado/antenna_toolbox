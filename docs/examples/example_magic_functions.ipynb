{
 "cells": [
  {
   "cell_type": "code",
   "execution_count": 1,
   "metadata": {},
   "outputs": [],
   "source": [
    "import sys\n",
    "sys.path.insert(0, '../../../')"
   ]
  },
  {
   "cell_type": "code",
   "execution_count": 2,
   "metadata": {},
   "outputs": [],
   "source": [
    "import numpy as np\n",
    "import antenna_toolbox as ant"
   ]
  },
  {
   "cell_type": "code",
   "execution_count": 3,
   "metadata": {},
   "outputs": [],
   "source": [
    "data = np.asarray(\n",
    "    [[[\n",
    "        [0, 1, 2, 3],\n",
    "        [4, 5, 6, 7]\n",
    "    ]]]\n",
    ")\n",
    "coords = {\n",
    "    'field': ['Ephi'],\n",
    "    'frequency' : [1e9],\n",
    "    'theta' : [0, 90],\n",
    "    'phi' : [0, 90, 180, 270]\n",
    "}\n",
    "p1 = ant.pattern(data, coords)\n",
    "\n",
    "data = np.asarray(\n",
    "    [[[\n",
    "        [0, 1, 2, 3],\n",
    "        [4, 5, 6, 7]\n",
    "    ]]]\n",
    ")\n",
    "coords = {\n",
    "    'field': ['Etheta'],\n",
    "    'frequency' : [1e9],\n",
    "    'theta' : [0, 90],\n",
    "    'phi' : [0, 90, 180, 270]\n",
    "}\n",
    "p2 = ant.pattern(data, coords)\n",
    "\n",
    "data = np.asarray(\n",
    "    [[[\n",
    "        [1, 5, 6, 8],\n",
    "        [9, 11, 14, 25]\n",
    "    ]]]\n",
    ")\n",
    "coords = {\n",
    "    'field': ['Etheta'],\n",
    "    'frequency' : [1e9],\n",
    "    'theta' : [0, 90],\n",
    "    'phi' : [0, 90, 180, 270]\n",
    "}\n",
    "p3 = ant.pattern(data, coords)\n",
    "\n",
    "data = np.asarray(\n",
    "    [[[\n",
    "        [1, 5, 6, 8],\n",
    "        [9, 11, 14, 25]\n",
    "    ]]]\n",
    ")\n",
    "coords = {\n",
    "    'field': ['Directivity_Theta'],\n",
    "    'frequency' : [1e9],\n",
    "    'theta' : [0, 90],\n",
    "    'phi' : [0, 90, 180, 270]\n",
    "}\n",
    "p4 = ant.pattern(data, coords)"
   ]
  },
  {
   "cell_type": "code",
   "execution_count": 4,
   "metadata": {},
   "outputs": [
    {
     "data": {
      "text/plain": [
       "<xarray.DataArray (field: 2, frequency: 1, theta: 2, phi: 4)>\n",
       "array([[[[ 0,  1,  2,  3],\n",
       "         [ 4,  5,  6,  7]]],\n",
       "\n",
       "\n",
       "       [[[ 1,  5,  6,  8],\n",
       "         [ 9, 11, 14, 25]]]])\n",
       "Coordinates:\n",
       "  * field      (field) <U17 'Ephi' 'Directivity_Theta'\n",
       "  * frequency  (frequency) float64 1e+09\n",
       "  * theta      (theta) int64 0 90\n",
       "  * phi        (phi) int64 0 90 180 270"
      ]
     },
     "execution_count": 4,
     "metadata": {},
     "output_type": "execute_result"
    }
   ],
   "source": [
    "# By concatenating two patterns along a dimension, \n",
    "# the user can create patterns by composition as \n",
    "# long as the other axis are aligned\n",
    "p1.concat(p4, 'field')"
   ]
  },
  {
   "cell_type": "code",
   "execution_count": 5,
   "metadata": {},
   "outputs": [
    {
     "data": {
      "text/plain": [
       "<xarray.DataArray (field: 1, frequency: 1, theta: 2, phi: 4)>\n",
       "array([[[[ 0,  2,  4,  6],\n",
       "         [ 8, 10, 12, 14]]]])\n",
       "Coordinates:\n",
       "  * field      (field) <U4 'Ephi'\n",
       "  * frequency  (frequency) float64 1e+09\n",
       "  * theta      (theta) int64 0 90\n",
       "  * phi        (phi) int64 0 90 180 270"
      ]
     },
     "execution_count": 5,
     "metadata": {},
     "output_type": "execute_result"
    }
   ],
   "source": [
    "# Adding field quantites works just fine\n",
    "p1 + p1"
   ]
  },
  {
   "cell_type": "code",
   "execution_count": 6,
   "metadata": {},
   "outputs": [
    {
     "ename": "KeyError",
     "evalue": "\"Fields unsafe to apply add, subtract, multiply or divide. Try slicing fields to include only ['Re_Etheta', 'Im_Etheta', 'Re_Ephi', 'Im_Ephi', 'Re_Htheta', 'Im_Htheta', 'Re_Hphi', 'Im_Hphi']\"",
     "output_type": "error",
     "traceback": [
      "\u001b[0;31m---------------------------------------------------------------------------\u001b[0m",
      "\u001b[0;31mKeyError\u001b[0m                                  Traceback (most recent call last)",
      "Cell \u001b[0;32mIn[6], line 1\u001b[0m\n\u001b[0;32m----> 1\u001b[0m p4 \u001b[39m+\u001b[39;49m p4\n",
      "File \u001b[0;32m~/Documents/Git/antenna_toolbox/docs/examples/../../../antenna_toolbox/core.py:331\u001b[0m, in \u001b[0;36mpattern.__add__\u001b[0;34m(self, other)\u001b[0m\n\u001b[1;32m    329\u001b[0m     \u001b[39mreturn\u001b[39;00m pattern(data_array\u001b[39m=\u001b[39m\u001b[39mself\u001b[39m\u001b[39m.\u001b[39mdata_array \u001b[39m+\u001b[39m other)\n\u001b[1;32m    330\u001b[0m \u001b[39melif\u001b[39;00m \u001b[39misinstance\u001b[39m(other, pattern):\n\u001b[0;32m--> 331\u001b[0m     \u001b[39mself\u001b[39;49m\u001b[39m.\u001b[39;49m_are_patterns_safe_to_add_sub_mul_div(other)\n\u001b[1;32m    332\u001b[0m     p \u001b[39m=\u001b[39m pattern(data_array\u001b[39m=\u001b[39m\u001b[39mself\u001b[39m\u001b[39m.\u001b[39mdata_array \u001b[39m+\u001b[39m other\u001b[39m.\u001b[39mdata_array)\n\u001b[1;32m    333\u001b[0m     \u001b[39mif\u001b[39;00m p\u001b[39m.\u001b[39mis_empty():\n",
      "File \u001b[0;32m~/Documents/Git/antenna_toolbox/docs/examples/../../../antenna_toolbox/core.py:317\u001b[0m, in \u001b[0;36mpattern._are_patterns_safe_to_add_sub_mul_div\u001b[0;34m(self, other)\u001b[0m\n\u001b[1;32m    316\u001b[0m \u001b[39mdef\u001b[39;00m \u001b[39m_are_patterns_safe_to_add_sub_mul_div\u001b[39m(\u001b[39mself\u001b[39m, other):\n\u001b[0;32m--> 317\u001b[0m     \u001b[39mself\u001b[39;49m\u001b[39m.\u001b[39;49m_are_fields_safe_to_add_sub_mul_div()\n\u001b[1;32m    318\u001b[0m     other\u001b[39m.\u001b[39m_are_fields_safe_to_add_sub_mul_div()\n",
      "File \u001b[0;32m~/Documents/Git/antenna_toolbox/docs/examples/../../../antenna_toolbox/core.py:124\u001b[0m, in \u001b[0;36mpattern._are_fields_safe_to_add_sub_mul_div\u001b[0;34m(self)\u001b[0m\n\u001b[1;32m    122\u001b[0m \u001b[39mdef\u001b[39;00m \u001b[39m_are_fields_safe_to_add_sub_mul_div\u001b[39m(\u001b[39mself\u001b[39m):\n\u001b[1;32m    123\u001b[0m     \u001b[39mif\u001b[39;00m \u001b[39many\u001b[39m(x \u001b[39min\u001b[39;00m \u001b[39mself\u001b[39m\u001b[39m.\u001b[39m_get_coords_as_list(\u001b[39m'\u001b[39m\u001b[39mfield\u001b[39m\u001b[39m'\u001b[39m) \u001b[39mfor\u001b[39;00m x \u001b[39min\u001b[39;00m \u001b[39mself\u001b[39m\u001b[39m.\u001b[39mFIELDS_UNSAFE_FOR_ADD_SUB_MUL_DIV):\n\u001b[0;32m--> 124\u001b[0m         \u001b[39mraise\u001b[39;00m \u001b[39mKeyError\u001b[39;00m(\u001b[39m'\u001b[39m\u001b[39mFields unsafe to apply add, subtract, multiply or divide. Try slicing fields to include only \u001b[39m\u001b[39m'\u001b[39m \\\n\u001b[1;32m    125\u001b[0m             \u001b[39m+\u001b[39m \u001b[39mstr\u001b[39m(\u001b[39mself\u001b[39m\u001b[39m.\u001b[39mFIELDS_SAFE_FOR_ADD_SUB_MUL_DIV))\n",
      "\u001b[0;31mKeyError\u001b[0m: \"Fields unsafe to apply add, subtract, multiply or divide. Try slicing fields to include only ['Re_Etheta', 'Im_Etheta', 'Re_Ephi', 'Im_Ephi', 'Re_Htheta', 'Im_Htheta', 'Re_Hphi', 'Im_Hphi']\""
     ]
    }
   ],
   "source": [
    "# Trying to add multiply or divide directivities will throw an error\n",
    "p4 + p4"
   ]
  },
  {
   "cell_type": "code",
   "execution_count": 12,
   "metadata": {},
   "outputs": [],
   "source": [
    "# Indexing using lists, slices, and scalar coordinate values is supported\n",
    "p1[:, :, [0, 90], 180]\n",
    "\n",
    "# As well as assignment using those methods indexing techniques\n",
    "p1['Ephi', :, [0, 90], 180] = p1['Ephi', :, [0, 90], 180]"
   ]
  }
 ],
 "metadata": {
  "kernelspec": {
   "display_name": "Python 3.11.0 64-bit",
   "language": "python",
   "name": "python3"
  },
  "language_info": {
   "codemirror_mode": {
    "name": "ipython",
    "version": 3
   },
   "file_extension": ".py",
   "mimetype": "text/x-python",
   "name": "python",
   "nbconvert_exporter": "python",
   "pygments_lexer": "ipython3",
   "version": "3.11.0"
  },
  "orig_nbformat": 4,
  "vscode": {
   "interpreter": {
    "hash": "5c7b89af1651d0b8571dde13640ecdccf7d5a6204171d6ab33e7c296e100e08a"
   }
  }
 },
 "nbformat": 4,
 "nbformat_minor": 2
}
